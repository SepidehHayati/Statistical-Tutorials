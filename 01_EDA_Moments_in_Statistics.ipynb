{
 "cells": [
  {
   "cell_type": "code",
   "execution_count": 59,
   "id": "8ae069cf-0568-4566-9a8f-9f2f7e9e43ff",
   "metadata": {},
   "outputs": [],
   "source": [
    "import pandas as pd"
   ]
  },
  {
   "cell_type": "markdown",
   "id": "6a9dc208-8fae-4ce7-b972-36b878566990",
   "metadata": {},
   "source": [
    "# Load and Display: "
   ]
  },
  {
   "cell_type": "code",
   "execution_count": 62,
   "id": "eea0d6ab-4bf5-42d6-b15e-9c2da6406d4c",
   "metadata": {},
   "outputs": [
    {
     "data": {
      "text/html": [
       "<div>\n",
       "<style scoped>\n",
       "    .dataframe tbody tr th:only-of-type {\n",
       "        vertical-align: middle;\n",
       "    }\n",
       "\n",
       "    .dataframe tbody tr th {\n",
       "        vertical-align: top;\n",
       "    }\n",
       "\n",
       "    .dataframe thead th {\n",
       "        text-align: right;\n",
       "    }\n",
       "</style>\n",
       "<table border=\"1\" class=\"dataframe\">\n",
       "  <thead>\n",
       "    <tr style=\"text-align: right;\">\n",
       "      <th></th>\n",
       "      <th>id</th>\n",
       "      <th>timestamp</th>\n",
       "      <th>hour</th>\n",
       "      <th>day</th>\n",
       "      <th>month</th>\n",
       "      <th>datetime</th>\n",
       "      <th>timezone</th>\n",
       "      <th>source</th>\n",
       "      <th>destination</th>\n",
       "      <th>cab_type</th>\n",
       "      <th>...</th>\n",
       "      <th>precipIntensityMax</th>\n",
       "      <th>uvIndexTime</th>\n",
       "      <th>temperatureMin</th>\n",
       "      <th>temperatureMinTime</th>\n",
       "      <th>temperatureMax</th>\n",
       "      <th>temperatureMaxTime</th>\n",
       "      <th>apparentTemperatureMin</th>\n",
       "      <th>apparentTemperatureMinTime</th>\n",
       "      <th>apparentTemperatureMax</th>\n",
       "      <th>apparentTemperatureMaxTime</th>\n",
       "    </tr>\n",
       "  </thead>\n",
       "  <tbody>\n",
       "    <tr>\n",
       "      <th>0</th>\n",
       "      <td>424553bb-7174-41ea-aeb4-fe06d4f4b9d7</td>\n",
       "      <td>1.544953e+09</td>\n",
       "      <td>9</td>\n",
       "      <td>16</td>\n",
       "      <td>12</td>\n",
       "      <td>2018-12-16 09:30:07</td>\n",
       "      <td>America/New_York</td>\n",
       "      <td>Haymarket Square</td>\n",
       "      <td>North Station</td>\n",
       "      <td>Lyft</td>\n",
       "      <td>...</td>\n",
       "      <td>0.1276</td>\n",
       "      <td>1544979600</td>\n",
       "      <td>39.89</td>\n",
       "      <td>1545012000</td>\n",
       "      <td>43.68</td>\n",
       "      <td>1544968800</td>\n",
       "      <td>33.73</td>\n",
       "      <td>1545012000</td>\n",
       "      <td>38.07</td>\n",
       "      <td>1544958000</td>\n",
       "    </tr>\n",
       "    <tr>\n",
       "      <th>1</th>\n",
       "      <td>4bd23055-6827-41c6-b23b-3c491f24e74d</td>\n",
       "      <td>1.543284e+09</td>\n",
       "      <td>2</td>\n",
       "      <td>27</td>\n",
       "      <td>11</td>\n",
       "      <td>2018-11-27 02:00:23</td>\n",
       "      <td>America/New_York</td>\n",
       "      <td>Haymarket Square</td>\n",
       "      <td>North Station</td>\n",
       "      <td>Lyft</td>\n",
       "      <td>...</td>\n",
       "      <td>0.1300</td>\n",
       "      <td>1543251600</td>\n",
       "      <td>40.49</td>\n",
       "      <td>1543233600</td>\n",
       "      <td>47.30</td>\n",
       "      <td>1543251600</td>\n",
       "      <td>36.20</td>\n",
       "      <td>1543291200</td>\n",
       "      <td>43.92</td>\n",
       "      <td>1543251600</td>\n",
       "    </tr>\n",
       "    <tr>\n",
       "      <th>2</th>\n",
       "      <td>981a3613-77af-4620-a42a-0c0866077d1e</td>\n",
       "      <td>1.543367e+09</td>\n",
       "      <td>1</td>\n",
       "      <td>28</td>\n",
       "      <td>11</td>\n",
       "      <td>2018-11-28 01:00:22</td>\n",
       "      <td>America/New_York</td>\n",
       "      <td>Haymarket Square</td>\n",
       "      <td>North Station</td>\n",
       "      <td>Lyft</td>\n",
       "      <td>...</td>\n",
       "      <td>0.1064</td>\n",
       "      <td>1543338000</td>\n",
       "      <td>35.36</td>\n",
       "      <td>1543377600</td>\n",
       "      <td>47.55</td>\n",
       "      <td>1543320000</td>\n",
       "      <td>31.04</td>\n",
       "      <td>1543377600</td>\n",
       "      <td>44.12</td>\n",
       "      <td>1543320000</td>\n",
       "    </tr>\n",
       "    <tr>\n",
       "      <th>3</th>\n",
       "      <td>c2d88af2-d278-4bfd-a8d0-29ca77cc5512</td>\n",
       "      <td>1.543554e+09</td>\n",
       "      <td>4</td>\n",
       "      <td>30</td>\n",
       "      <td>11</td>\n",
       "      <td>2018-11-30 04:53:02</td>\n",
       "      <td>America/New_York</td>\n",
       "      <td>Haymarket Square</td>\n",
       "      <td>North Station</td>\n",
       "      <td>Lyft</td>\n",
       "      <td>...</td>\n",
       "      <td>0.0000</td>\n",
       "      <td>1543507200</td>\n",
       "      <td>34.67</td>\n",
       "      <td>1543550400</td>\n",
       "      <td>45.03</td>\n",
       "      <td>1543510800</td>\n",
       "      <td>30.30</td>\n",
       "      <td>1543550400</td>\n",
       "      <td>38.53</td>\n",
       "      <td>1543510800</td>\n",
       "    </tr>\n",
       "    <tr>\n",
       "      <th>4</th>\n",
       "      <td>e0126e1f-8ca9-4f2e-82b3-50505a09db9a</td>\n",
       "      <td>1.543463e+09</td>\n",
       "      <td>3</td>\n",
       "      <td>29</td>\n",
       "      <td>11</td>\n",
       "      <td>2018-11-29 03:49:20</td>\n",
       "      <td>America/New_York</td>\n",
       "      <td>Haymarket Square</td>\n",
       "      <td>North Station</td>\n",
       "      <td>Lyft</td>\n",
       "      <td>...</td>\n",
       "      <td>0.0001</td>\n",
       "      <td>1543420800</td>\n",
       "      <td>33.10</td>\n",
       "      <td>1543402800</td>\n",
       "      <td>42.18</td>\n",
       "      <td>1543420800</td>\n",
       "      <td>29.11</td>\n",
       "      <td>1543392000</td>\n",
       "      <td>35.75</td>\n",
       "      <td>1543420800</td>\n",
       "    </tr>\n",
       "  </tbody>\n",
       "</table>\n",
       "<p>5 rows × 57 columns</p>\n",
       "</div>"
      ],
      "text/plain": [
       "                                     id     timestamp  hour  day  month  \\\n",
       "0  424553bb-7174-41ea-aeb4-fe06d4f4b9d7  1.544953e+09     9   16     12   \n",
       "1  4bd23055-6827-41c6-b23b-3c491f24e74d  1.543284e+09     2   27     11   \n",
       "2  981a3613-77af-4620-a42a-0c0866077d1e  1.543367e+09     1   28     11   \n",
       "3  c2d88af2-d278-4bfd-a8d0-29ca77cc5512  1.543554e+09     4   30     11   \n",
       "4  e0126e1f-8ca9-4f2e-82b3-50505a09db9a  1.543463e+09     3   29     11   \n",
       "\n",
       "              datetime          timezone            source    destination  \\\n",
       "0  2018-12-16 09:30:07  America/New_York  Haymarket Square  North Station   \n",
       "1  2018-11-27 02:00:23  America/New_York  Haymarket Square  North Station   \n",
       "2  2018-11-28 01:00:22  America/New_York  Haymarket Square  North Station   \n",
       "3  2018-11-30 04:53:02  America/New_York  Haymarket Square  North Station   \n",
       "4  2018-11-29 03:49:20  America/New_York  Haymarket Square  North Station   \n",
       "\n",
       "  cab_type  ... precipIntensityMax uvIndexTime  temperatureMin  \\\n",
       "0     Lyft  ...             0.1276  1544979600           39.89   \n",
       "1     Lyft  ...             0.1300  1543251600           40.49   \n",
       "2     Lyft  ...             0.1064  1543338000           35.36   \n",
       "3     Lyft  ...             0.0000  1543507200           34.67   \n",
       "4     Lyft  ...             0.0001  1543420800           33.10   \n",
       "\n",
       "   temperatureMinTime  temperatureMax  temperatureMaxTime  \\\n",
       "0          1545012000           43.68          1544968800   \n",
       "1          1543233600           47.30          1543251600   \n",
       "2          1543377600           47.55          1543320000   \n",
       "3          1543550400           45.03          1543510800   \n",
       "4          1543402800           42.18          1543420800   \n",
       "\n",
       "   apparentTemperatureMin  apparentTemperatureMinTime  apparentTemperatureMax  \\\n",
       "0                   33.73                  1545012000                   38.07   \n",
       "1                   36.20                  1543291200                   43.92   \n",
       "2                   31.04                  1543377600                   44.12   \n",
       "3                   30.30                  1543550400                   38.53   \n",
       "4                   29.11                  1543392000                   35.75   \n",
       "\n",
       "  apparentTemperatureMaxTime  \n",
       "0                 1544958000  \n",
       "1                 1543251600  \n",
       "2                 1543320000  \n",
       "3                 1543510800  \n",
       "4                 1543420800  \n",
       "\n",
       "[5 rows x 57 columns]"
      ]
     },
     "execution_count": 62,
     "metadata": {},
     "output_type": "execute_result"
    }
   ],
   "source": [
    "# Load the dataset into a pandas DataFrame\n",
    "dataset = pd.read_csv (r'C:\\Users\\spdhy\\Desktop\\7learn\\Statistics\\rideshare_kaggle.csv')\n",
    "\n",
    "# Display the first 5 rows of the dataset to get an overview\n",
    "dataset.head()"
   ]
  },
  {
   "cell_type": "code",
   "execution_count": 63,
   "id": "7185c501-0fdf-4b40-9a5f-3c0e6d4b1dbd",
   "metadata": {},
   "outputs": [
    {
     "data": {
      "text/plain": [
       "Index(['id', 'timestamp', 'hour', 'day', 'month', 'datetime', 'timezone',\n",
       "       'source', 'destination', 'cab_type', 'product_id', 'name', 'price',\n",
       "       'distance', 'surge_multiplier', 'latitude', 'longitude', 'temperature',\n",
       "       'apparentTemperature', 'short_summary', 'long_summary',\n",
       "       'precipIntensity', 'precipProbability', 'humidity', 'windSpeed',\n",
       "       'windGust', 'windGustTime', 'visibility', 'temperatureHigh',\n",
       "       'temperatureHighTime', 'temperatureLow', 'temperatureLowTime',\n",
       "       'apparentTemperatureHigh', 'apparentTemperatureHighTime',\n",
       "       'apparentTemperatureLow', 'apparentTemperatureLowTime', 'icon',\n",
       "       'dewPoint', 'pressure', 'windBearing', 'cloudCover', 'uvIndex',\n",
       "       'visibility.1', 'ozone', 'sunriseTime', 'sunsetTime', 'moonPhase',\n",
       "       'precipIntensityMax', 'uvIndexTime', 'temperatureMin',\n",
       "       'temperatureMinTime', 'temperatureMax', 'temperatureMaxTime',\n",
       "       'apparentTemperatureMin', 'apparentTemperatureMinTime',\n",
       "       'apparentTemperatureMax', 'apparentTemperatureMaxTime'],\n",
       "      dtype='object')"
      ]
     },
     "execution_count": 63,
     "metadata": {},
     "output_type": "execute_result"
    }
   ],
   "source": [
    "# List all column names in the dataset\n",
    "dataset.columns"
   ]
  },
  {
   "cell_type": "code",
   "execution_count": 64,
   "id": "856fd303-29e5-472a-a47e-daf60c231f28",
   "metadata": {},
   "outputs": [
    {
     "data": {
      "text/plain": [
       "693071"
      ]
     },
     "execution_count": 64,
     "metadata": {},
     "output_type": "execute_result"
    }
   ],
   "source": [
    "# Find the total number of rows in the dataset\n",
    "number_of_rows = len(dataset)\n",
    "number_of_rows"
   ]
  },
  {
   "cell_type": "code",
   "execution_count": 65,
   "id": "d0fd7098-9e97-45bb-9fe8-eb85f4230ba1",
   "metadata": {},
   "outputs": [
    {
     "data": {
      "text/plain": [
       "0          9\n",
       "1          2\n",
       "2          1\n",
       "3          4\n",
       "4          3\n",
       "          ..\n",
       "693066    23\n",
       "693067    23\n",
       "693068    23\n",
       "693069    23\n",
       "693070    23\n",
       "Name: hour, Length: 693071, dtype: int64"
      ]
     },
     "execution_count": 65,
     "metadata": {},
     "output_type": "execute_result"
    }
   ],
   "source": [
    "# Access the 'hour' column to explore its data\n",
    "dataset ['hour']"
   ]
  },
  {
   "cell_type": "markdown",
   "id": "52017697-e37d-4239-94da-550e005a6385",
   "metadata": {},
   "source": [
    "# Moments in statistics:\n",
    "### 1. Mean: Mode, Median, Trimmed Mean.\n",
    "### 2. Variance: Standard Deviation, Coefficient of Variance.\n",
    "\n"
   ]
  },
  {
   "cell_type": "markdown",
   "id": "74c3c305-febb-4cae-8d96-ed4383358a49",
   "metadata": {},
   "source": [
    "## 1. Firs moment is `Mean`:\n",
    "##### Represents the `average value` of the data.\n",
    "##### Data centrality measures the center of the data distribution.\n",
    "##### It's sensitive to outliers (extreme values)."
   ]
  },
  {
   "cell_type": "code",
   "execution_count": 68,
   "id": "0b0382a0-ba33-4fbc-9acb-df17d3010e1d",
   "metadata": {},
   "outputs": [
    {
     "data": {
      "text/plain": [
       "11.61913714467926"
      ]
     },
     "execution_count": 68,
     "metadata": {},
     "output_type": "execute_result"
    }
   ],
   "source": [
    "# Calculate the mean for the 'hour' column\n",
    "mean_hour = dataset['hour'].mean()\n",
    "mean_hour"
   ]
  },
  {
   "cell_type": "code",
   "execution_count": 69,
   "id": "84dca53f-4621-4849-a5bf-54ffb3851687",
   "metadata": {},
   "outputs": [
    {
     "data": {
      "text/plain": [
       "16.545125490614065"
      ]
     },
     "execution_count": 69,
     "metadata": {},
     "output_type": "execute_result"
    }
   ],
   "source": [
    "# Calculate the mean for the 'price' column\n",
    "# Note: Mean can be affected by outliers, so it may not always represent the data accurately.\n",
    "\n",
    "mean_price = dataset['price'].mean()\n",
    "mean_price"
   ]
  },
  {
   "cell_type": "markdown",
   "id": "e8a97dbd-c87e-40a1-86f7-b3d3bb4055d7",
   "metadata": {},
   "source": [
    "### 1.1. Median:\n",
    "##### Represents the `middle value` of the data when `sorted`.\n",
    "##### It is less sensitive to outliers compared to the mean.\n",
    "##### Half the data points are smaller, and half are larger than the median."
   ]
  },
  {
   "cell_type": "code",
   "execution_count": 71,
   "id": "c56a6c61-04cc-43c2-aca7-8d0b7f86cd90",
   "metadata": {},
   "outputs": [
    {
     "data": {
      "text/plain": [
       "13.5"
      ]
     },
     "execution_count": 71,
     "metadata": {},
     "output_type": "execute_result"
    }
   ],
   "source": [
    "median_price = dataset['price'].median()\n",
    "median_price"
   ]
  },
  {
   "cell_type": "markdown",
   "id": "a024c5ad-d1d2-4266-a156-b869c61ff452",
   "metadata": {},
   "source": [
    "### 1.2. Mode:\n",
    "##### Represents `the most frequent value` in the dataset.\n",
    "##### `Mode` is often used for `categorical data`, while `mean` and `median` are better for `numerical data`.\n"
   ]
  },
  {
   "cell_type": "code",
   "execution_count": 73,
   "id": "11283522-bf45-4c2b-b25c-f357b1f5e08b",
   "metadata": {},
   "outputs": [
    {
     "data": {
      "text/plain": [
       "0    7.0\n",
       "Name: price, dtype: float64"
      ]
     },
     "execution_count": 73,
     "metadata": {},
     "output_type": "execute_result"
    }
   ],
   "source": [
    "# Most frequent value in the 'price' column, but mode is often to use for categorical data\n",
    "mode_price = dataset['price'].mode()\n",
    "mode_price"
   ]
  },
  {
   "cell_type": "code",
   "execution_count": 74,
   "id": "73f741f6-b918-4a62-838a-0ee5269f5ff2",
   "metadata": {},
   "outputs": [
    {
     "data": {
      "text/plain": [
       "0    0\n",
       "Name: hour, dtype: int64"
      ]
     },
     "execution_count": 74,
     "metadata": {},
     "output_type": "execute_result"
    }
   ],
   "source": [
    "# Most frequent value in the 'hour' column\n",
    "mode_hour = dataset['hour'].mode()\n",
    "mode_hour"
   ]
  },
  {
   "cell_type": "code",
   "execution_count": 75,
   "id": "efd286f3-9e8e-43eb-9aba-280480e56c65",
   "metadata": {},
   "outputs": [
    {
     "data": {
      "text/plain": [
       "0    Financial District\n",
       "Name: destination, dtype: object"
      ]
     },
     "execution_count": 75,
     "metadata": {},
     "output_type": "execute_result"
    }
   ],
   "source": [
    "# Most frequent value in the 'destination' column\n",
    "mode_destination = dataset['destination'].mode()\n",
    "mode_destination"
   ]
  },
  {
   "cell_type": "markdown",
   "id": "574dec74-5602-4c39-931e-32a49e3b6fa5",
   "metadata": {},
   "source": [
    "### 1.3. Trimmed Mean:\n",
    "##### A `modified mean` that is less sensitive to outliers.\n",
    "##### It calculates the mean after removing a specified percentage of the smallest and largest values.\n",
    "##### Remove the `top` and `bottom` `10%` of the data and calculate the mean of the remaining 80%."
   ]
  },
  {
   "cell_type": "code",
   "execution_count": 77,
   "id": "e62a6dcb-b1c8-42e8-ab72-86e9a281bc22",
   "metadata": {},
   "outputs": [],
   "source": [
    "from scipy import stats"
   ]
  },
  {
   "cell_type": "code",
   "execution_count": 78,
   "id": "54593ac6-c0bc-4a77-9d23-c627c5218e2f",
   "metadata": {},
   "outputs": [
    {
     "data": {
      "text/plain": [
       "17.16896103755566"
      ]
     },
     "execution_count": 78,
     "metadata": {},
     "output_type": "execute_result"
    }
   ],
   "source": [
    "trimmed_mean = stats.trim_mean(dataset['price'], 0.1) # Removing 10% of the data from top and bottom\n",
    "trimmed_mean"
   ]
  },
  {
   "cell_type": "markdown",
   "id": "fb252c79-a2c3-4517-a74a-03c89fd87d25",
   "metadata": {},
   "source": [
    "## Summary:\n",
    "\n",
    "##### 1. The `mean` provides a quick sense of the `central value` but can be misleading with outliers.\n",
    "##### 2. The `media`n is a better measure of central tendency when the data has outliers.\n",
    "##### 3. The `mode` is useful for identifying the `most common values`, especially in `categorical data`.\n",
    "##### 4. The `trimmed mean` helps to avoid the influence of extreme values (noise) in the dataset."
   ]
  },
  {
   "cell_type": "markdown",
   "id": "23b01c7e-2190-438e-8178-68ebc4d98e15",
   "metadata": {},
   "source": [
    "## 2. Second moment is `Variance`:\n",
    "##### Variance measures the `dispersion of data points` around the `mean`.\n",
    "##### A `higher variance` indicates that the data points are `more spread out` from the mean."
   ]
  },
  {
   "cell_type": "markdown",
   "id": "f2b89f4f-1d9a-4794-b106-69e6c470a6f4",
   "metadata": {},
   "source": [
    "$\\sigma^2 = \\frac{\\sum{(x_i - \\mu)^2}}{N}$\n"
   ]
  },
  {
   "cell_type": "code",
   "execution_count": 82,
   "id": "2139a0c0-bc4e-4adf-b24e-bc2c6cb5199d",
   "metadata": {},
   "outputs": [
    {
     "data": {
      "text/plain": [
       "86.94366295489003"
      ]
     },
     "execution_count": 82,
     "metadata": {},
     "output_type": "execute_result"
    }
   ],
   "source": [
    "variance = dataset['price'].var()\n",
    "variance"
   ]
  },
  {
   "cell_type": "markdown",
   "id": "8d5e7801-af9c-4fa1-82a3-373cb3b48eb0",
   "metadata": {},
   "source": [
    "### 2.1. Standard deviation:\n",
    "##### Standard deviation is the `square root of variance`.\n",
    "##### It shows the `average deviation of data points` from the `mean` in the same unit as the data.\n",
    "##### There are two formulas for standard deviation:\n",
    "###### 1. `Population standard deviation`: Used when analyzing the entire population.\n",
    "###### 2. `Sample standard deviation`: Used when analyzing a sample from the population.\n"
   ]
  },
  {
   "cell_type": "markdown",
   "id": "fabac3d6-3045-498b-a89f-5c34753f2f14",
   "metadata": {},
   "source": [
    "$\\sigma = \\sqrt{\\frac{\\sum{(x_i - \\mu)^2}}{N}}$\r\n",
    "\n"
   ]
  },
  {
   "cell_type": "code",
   "execution_count": 85,
   "id": "980b8b94-6f42-40ec-95a5-3e57676d7bae",
   "metadata": {},
   "outputs": [
    {
     "data": {
      "text/plain": [
       "9.324358581419423"
      ]
     },
     "execution_count": 85,
     "metadata": {},
     "output_type": "execute_result"
    }
   ],
   "source": [
    "standard_deviation = dataset['price'].std()\n",
    "standard_deviation"
   ]
  },
  {
   "cell_type": "markdown",
   "id": "6f10a5d7-011f-43dd-a0b5-7c699560a13d",
   "metadata": {},
   "source": [
    "### 2.2. Coefficient of variation (CV):\n",
    "##### Is a statistical measure used to assess the relative dispersion of data in relation to its mean. \n",
    "##### It is expressed as a \"percentage\" and is calculated by \"dividing the standard deviation\".\n"
   ]
  },
  {
   "cell_type": "code",
   "execution_count": 87,
   "id": "4aaf3358-8166-43e5-9d82-07e811ced8ab",
   "metadata": {},
   "outputs": [],
   "source": [
    "# Applications of Coefficient of Variation:\n",
    "## 1. Comparison between different datasets\n",
    "## 2. Evaluating data stability:\n",
    "   # A lower CV (e.g., less than 10%) indicates that the data is more stable.\n",
    "   # A higher CV (e.g., more than 30%) suggests that the data is more volatile or spread out.\n",
    "## 3. Risk management:In finance, CV is used to compare the risk of investments. A lower CV generally indicates a safer investment.\n",
    "## 4. Analysis in various fields: In fields like biology, economics, engineering, and others, CV is used to compare characteristics (e.g., weight, height, or income)"
   ]
  },
  {
   "cell_type": "code",
   "execution_count": 88,
   "id": "8aa07662-719b-48b1-95c4-bdd8cd9b13e8",
   "metadata": {},
   "outputs": [],
   "source": [
    "# The CV value is expressed as a percentage and tells you how much the standard deviation is relative to the mean.\n",
    "## For example, if 𝐶𝑉=15%, it means that the data's spread is 15% of the mean."
   ]
  },
  {
   "cell_type": "markdown",
   "id": "f15e0379-8a09-4e68-84a5-530a28c4d193",
   "metadata": {},
   "source": [
    "$CV = \\frac{\\sigma}{\\mu} \\times 100$\r\n"
   ]
  },
  {
   "cell_type": "code",
   "execution_count": 90,
   "id": "a2f5d71f-7aff-4dd0-bdd4-6d7a4eb59e81",
   "metadata": {},
   "outputs": [
    {
     "data": {
      "text/plain": [
       "0.5635713423091935"
      ]
     },
     "execution_count": 90,
     "metadata": {},
     "output_type": "execute_result"
    }
   ],
   "source": [
    "coefficient_of_variation = standard_deviation/ mean_price\n",
    "coefficient_of_variation"
   ]
  },
  {
   "cell_type": "markdown",
   "id": "92f35f2c-5e7e-43d9-aced-a6a0284ddd8e",
   "metadata": {},
   "source": [
    "# Data Distribution"
   ]
  },
  {
   "cell_type": "markdown",
   "id": "b9b724da-2426-4aad-acbe-734f4a3c1674",
   "metadata": {},
   "source": [
    "### Histogram\n"
   ]
  },
  {
   "cell_type": "markdown",
   "id": "e097c4ce-37cf-4c9b-9aa8-443dce7adfad",
   "metadata": {},
   "source": [
    "### Normal Distribution and the Empirical Rule\n",
    "##### The graph below illustrates the normal distribution, which has a bell-shaped curve. \n",
    "##### The central values (mean, $\\mu$) and standard deviation ($\\sigma$) are shown on the horizontal axis.\n",
    "\n",
    "##### According to the Empirical Rule, if the data follows a normal distribution:\n",
    "\n",
    "###### - 68% of the data lies within the range $\\mu \\pm \\sigma$ (i.e., one standard deviation above or below the mean).\n",
    "###### - 95% of the data lies within the range $\\mu \\pm 2\\sigma$ (i.e., two standard deviations above or below the mean).\n",
    "###### - 99.7% of the data lies within the range $\\mu \\pm 3\\sigma$ (i.e., three standard deviations above or below the mean)."
   ]
  },
  {
   "cell_type": "markdown",
   "id": "829a2c2d-9fa4-4b82-89ff-d5c3747526e9",
   "metadata": {},
   "source": [
    "![Normal Distribution](01_normal_distribution.png)\r\n",
    "\n"
   ]
  },
  {
   "cell_type": "code",
   "execution_count": 112,
   "id": "4fb5b12d-c47a-41f8-ae38-0a871c604e9d",
   "metadata": {},
   "outputs": [
    {
     "data": {
      "text/plain": [
       "<Axes: >"
      ]
     },
     "execution_count": 112,
     "metadata": {},
     "output_type": "execute_result"
    },
    {
     "data": {
      "image/png": "[encoded data removed]",
      "text/plain": [
       "<Figure size 640x480 with 1 Axes>"
      ]
     },
     "metadata": {},
     "output_type": "display_data"
    }
   ],
   "source": [
    "dataset['price'].hist(bins = 30)"
   ]
  },
  {
   "cell_type": "markdown",
   "id": "3e060b3e-9b29-416c-8d7d-48bd16501b5d",
   "metadata": {},
   "source": [
    "#### Note. 99.7% of the data lies within the range $\\mu \\pm 3\\sigma$ (i.e., three standard deviations above or below the mean):"
   ]
  },
  {
   "cell_type": "code",
   "execution_count": 115,
   "id": "8f37f855-d793-43ed-a366-a83e431e1352",
   "metadata": {},
   "outputs": [
    {
     "data": {
      "text/plain": [
       "-11.427950253644202"
      ]
     },
     "execution_count": 115,
     "metadata": {},
     "output_type": "execute_result"
    }
   ],
   "source": [
    "mean_price = dataset['price'].mean()\n",
    "standard_deviation = dataset['price'].std()\n",
    "\n",
    "left_standard_deviation = (mean_price - standard_deviation *3)\n",
    "left_standard_deviation     #But the amount for price cannot be less that zero, so our data starts from above that zero\n"
   ]
  },
  {
   "cell_type": "code",
   "execution_count": 117,
   "id": "875c35b0-7b3c-453d-b4f6-710355cc2494",
   "metadata": {},
   "outputs": [
    {
     "data": {
      "text/plain": [
       "44.518201234872336"
      ]
     },
     "execution_count": 117,
     "metadata": {},
     "output_type": "execute_result"
    }
   ],
   "source": [
    "right_standard_deviation =( mean_price + standard_deviation *3)\n",
    "right_standard_deviation\n"
   ]
  },
  {
   "cell_type": "markdown",
   "id": "b010ad35-ba47-45c2-bec7-39bf6b5087c7",
   "metadata": {},
   "source": [
    "## 3. The third moment is `Skewness`:\n",
    "\n",
    "##### Skewness is a way to describe if the data is balanced or tilted to one side.\n",
    "\n",
    "##### - If the data is `balanced`, meaning both sides of the average (mean) look the same, the skewness is `zero` or no skew.\n",
    "##### - If most of the data is on the left side, and the right side has a long tail, it’s called `positive skewness`.\n",
    "##### - If most of the data is on the right side, and the left side has a long tail, it’s called `negative skewness`.\n",
    "\n",
    "##### Points:\n",
    "##### - The median is always between Mean and Mode.\n",
    "##### - If Mean is greater that Mode, means `positive skewness`.\n",
    "##### - If Mean is less that Mode, means `negative skewness`."
   ]
  },
  {
   "cell_type": "markdown",
   "id": "83772215-5497-4309-81e1-9e60c806a78b",
   "metadata": {},
   "source": [
    "![skewness](01_skewness.jpg)"
   ]
  },
  {
   "cell_type": "markdown",
   "id": "29b75f86-a7dd-42e8-8f8e-208f0475553b",
   "metadata": {},
   "source": [
    "### Skewness Formula:\n",
    "The skewness of a dataset is calculated using the following formula:\n",
    "\n",
    "$$\n",
    "g_1 = \\frac{n}{(n-1)(n-2)} \\sum \\left( \\frac{x_i - \\text{mean}}{\\text{std\\_dev}} \\right)^3\n",
    "$$\n"
   ]
  },
  {
   "cell_type": "code",
   "execution_count": 122,
   "id": "79e45674-ae69-4711-84b9-b54a64214a45",
   "metadata": {},
   "outputs": [],
   "source": [
    "# In this case, Mode is less that mean, so we have `positive skewness` and the amount for skew() is also greater thatn zero.\n",
    "# median_price = 13.5\n",
    "# mode_price = 7\n",
    "# mean_price = 16.54\n",
    "\n",
    "skew_price = dataset['price'].skew()"
   ]
  },
  {
   "cell_type": "markdown",
   "id": "48ead166-3ff0-4aa4-9bb6-0718fad382d0",
   "metadata": {},
   "source": [
    "## 4. The Forth moment is `Kurtosis`:\n",
    "\n",
    "##### Kurtosis describes the shape of a distribution, specifically how peaked or flat it is compared to a normal distribution.\n",
    "\n",
    "\n",
    "##### - High Kurtosis(positive): The distribution is more `peaked` (tall and narrow) than a normal distribution. This means most of the data points are concentrated around the mean, with fewer extreme values (outliers).\n",
    "\n",
    "##### - Low Kurtosis (negative): The distribution is `flatter` than a normal distribution, meaning there are more data points in the tails and fewer near the mean. This indicates the presence of more extreme values (outliers).\n",
    "\n",
    "\n"
   ]
  },
  {
   "cell_type": "markdown",
   "id": "bbaa664d-035b-491a-b9c9-1422d6db97cf",
   "metadata": {},
   "source": [
    "![Kurtosis](01_kurtosis.jpg)"
   ]
  },
  {
   "cell_type": "code",
   "execution_count": 133,
   "id": "351e4ab3-c732-4e69-8358-7a794ef23ab0",
   "metadata": {},
   "outputs": [
    {
     "data": {
      "text/plain": [
       "1.2248292540626236"
      ]
     },
     "execution_count": 133,
     "metadata": {},
     "output_type": "execute_result"
    }
   ],
   "source": [
    "kurtosis = dataset['price'].kurtosis()     # The kurtosis is positive because the result is positive and more than zero.\n",
    "kurtosis"
   ]
  }
 ],
 "metadata": {
  "kernelspec": {
   "display_name": "Python 3 (ipykernel)",
   "language": "python",
   "name": "python3"
  },
  "language_info": {
   "codemirror_mode": {
    "name": "ipython",
    "version": 3
   },
   "file_extension": ".py",
   "mimetype": "text/x-python",
   "name": "python",
   "nbconvert_exporter": "python",
   "pygments_lexer": "ipython3",
   "version": "3.12.4"
  }
 },
 "nbformat": 4,
 "nbformat_minor": 5
}
